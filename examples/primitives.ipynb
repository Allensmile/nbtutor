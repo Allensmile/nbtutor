{
 "cells": [
  {
   "cell_type": "code",
   "execution_count": 21,
   "metadata": {
    "collapsed": true
   },
   "outputs": [],
   "source": [
    "%reload_ext nbtutor"
   ]
  },
  {
   "cell_type": "code",
   "execution_count": 22,
   "metadata": {
    "collapsed": false
   },
   "outputs": [
    {
     "name": "nbtutor",
     "output_type": "stream",
     "text": []
    }
   ],
   "source": [
    "%%nbtutor -r -f\n",
    "bool_obj = False\n",
    "none_obj = None\n",
    "\n",
    "int_obj = 100\n",
    "float_obj = 12.325900\n",
    "float_obj_nan = float('NaN')\n",
    "float_obj_inf = float('inf')\n",
    "complex_obj = 12+2j\n",
    "real = complex_obj.real\n",
    "imag = complex_obj.imag\n",
    "\n",
    "bin_obj = bin(30)\n",
    "\n",
    "str_obj_one = 'Hi'\n",
    "str_obj_two = \"\"\"Hello\n",
    "World\"\"\"\n",
    "str_obj_three = \"Άλφα Álpha\"\n",
    "pass"
   ]
  },
  {
   "cell_type": "code",
   "execution_count": 24,
   "metadata": {
    "collapsed": false
   },
   "outputs": [
    {
     "name": "nbtutor",
     "output_type": "stream",
     "text": []
    }
   ],
   "source": [
    "%%nbtutor -r -f -i\n",
    "bool_obj = False\n",
    "none_obj = None\n",
    "\n",
    "int_obj = 100\n",
    "float_obj = 12.325900\n",
    "float_obj_nan = float('NaN')\n",
    "float_obj_inf = float('inf')\n",
    "complex_obj = 12+2j\n",
    "real = complex_obj.real\n",
    "imag = complex_obj.imag\n",
    "\n",
    "bin_obj = bin(30)\n",
    "\n",
    "str_obj_one = 'Hi'\n",
    "str_obj_two = \"\"\"Hello\n",
    "World\"\"\"\n",
    "str_obj_three = \"Άλφα Álpha\"\n",
    "pass"
   ]
  },
  {
   "cell_type": "code",
   "execution_count": null,
   "metadata": {
    "collapsed": true
   },
   "outputs": [],
   "source": []
  }
 ],
 "metadata": {
  "celltoolbar": "Visualize",
  "kernelspec": {
   "display_name": "Python 3",
   "language": "python",
   "name": "python3"
  },
  "language_info": {
   "codemirror_mode": {
    "name": "ipython",
    "version": 3
   },
   "file_extension": ".py",
   "mimetype": "text/x-python",
   "name": "python",
   "nbconvert_exporter": "python",
   "pygments_lexer": "ipython3",
   "version": "3.5.2"
  }
 },
 "nbformat": 4,
 "nbformat_minor": 1
}
