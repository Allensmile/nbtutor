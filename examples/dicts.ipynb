{
 "cells": [
  {
   "cell_type": "code",
   "execution_count": null,
   "metadata": {
    "collapsed": false
   },
   "outputs": [],
   "source": [
    "%reload_ext nbtutor"
   ]
  },
  {
   "cell_type": "code",
   "execution_count": null,
   "metadata": {
    "collapsed": false
   },
   "outputs": [],
   "source": [
    "%%nbtutor -r -f\n",
    "foo = {\n",
    "    \"one\": 10,\n",
    "    \"two\": \"Hi\",\n",
    "    \"three\": [1, 2, 3]\n",
    "}\n",
    "bar = 10\n",
    "pass"
   ]
  },
  {
   "cell_type": "code",
   "execution_count": null,
   "metadata": {
    "collapsed": false
   },
   "outputs": [],
   "source": [
    "%%nbtutor -i\n",
    "pass"
   ]
  },
  {
   "cell_type": "code",
   "execution_count": null,
   "metadata": {
    "collapsed": false
   },
   "outputs": [],
   "source": [
    "%%nbtutor -r -f\n",
    "foo = {\n",
    "    1: 10,\n",
    "    2: \"Hi\",\n",
    "    3: [1, 2, 3]\n",
    "}\n",
    "bar = 10\n",
    "pass"
   ]
  },
  {
   "cell_type": "code",
   "execution_count": null,
   "metadata": {
    "collapsed": false
   },
   "outputs": [],
   "source": [
    "%%nbtutor -i\n",
    "pass"
   ]
  },
  {
   "cell_type": "code",
   "execution_count": null,
   "metadata": {
    "collapsed": false
   },
   "outputs": [],
   "source": [
    "%%nbtutor -r -f\n",
    "foo = {\n",
    "    \"one\": 10,\n",
    "    2: \"Hi\",\n",
    "    True: [1, 2, 3],\n",
    "    None: 100,\n",
    "}\n",
    "bar = 10\n",
    "pass"
   ]
  },
  {
   "cell_type": "code",
   "execution_count": null,
   "metadata": {
    "collapsed": false
   },
   "outputs": [],
   "source": [
    "%%nbtutor -i\n",
    "pass"
   ]
  },
  {
   "cell_type": "code",
   "execution_count": null,
   "metadata": {
    "collapsed": false
   },
   "outputs": [],
   "source": [
    "%%nbtutor -r -f\n",
    "foo = {\n",
    "    \"one\": 10,\n",
    "    (1, 2): \"Hi\",\n",
    "    3: [1, 2, 3],\n",
    "    None: 100,\n",
    "}\n",
    "bar = 10\n",
    "pass"
   ]
  },
  {
   "cell_type": "code",
   "execution_count": null,
   "metadata": {
    "collapsed": false
   },
   "outputs": [],
   "source": [
    "%%nbtutor -i\n",
    "pass"
   ]
  },
  {
   "cell_type": "code",
   "execution_count": null,
   "metadata": {
    "collapsed": false
   },
   "outputs": [],
   "source": [
    "%%nbtutor -r -f --nolies\n",
    "foo = {\n",
    "    \"one\": 10,\n",
    "    (1, 2): \"Hi\",\n",
    "    3: [1, 2, 3],\n",
    "    None: 100,\n",
    "}\n",
    "bar = 10\n",
    "pass"
   ]
  },
  {
   "cell_type": "code",
   "execution_count": null,
   "metadata": {
    "collapsed": false
   },
   "outputs": [],
   "source": []
  }
 ],
 "metadata": {
  "anaconda-cloud": {},
  "celltoolbar": "Visualize",
  "kernelspec": {
   "display_name": "Python [default]",
   "language": "python",
   "name": "python3"
  },
  "language_info": {
   "codemirror_mode": {
    "name": "ipython",
    "version": 3
   },
   "file_extension": ".py",
   "mimetype": "text/x-python",
   "name": "python",
   "nbconvert_exporter": "python",
   "pygments_lexer": "ipython3",
   "version": "3.5.2"
  }
 },
 "nbformat": 4,
 "nbformat_minor": 1
}
